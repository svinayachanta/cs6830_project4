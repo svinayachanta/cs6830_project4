{
 "cells": [
  {
   "cell_type": "markdown",
   "id": "8cd4534b",
   "metadata": {},
   "source": [
    "### Part-1 Predicting Heart Disease"
   ]
  },
  {
   "cell_type": "code",
   "execution_count": null,
   "id": "ce75ba38",
   "metadata": {},
   "outputs": [],
   "source": [
    "import pandas as pd\n",
    "import numpy as np\n",
    "import itertools\n",
    "from sklearn.neighbors import NearestNeighbors\n",
    "from sklearn.model_selection import train_test_split, KFold\n",
    "from sklearn.metrics import precision_recall_fscore_support, accuracy_score,recall_score \n",
    "import matplotlib.pyplot as plt"
   ]
  },
  {
   "cell_type": "code",
   "execution_count": null,
   "id": "2ac350e8",
   "metadata": {},
   "outputs": [],
   "source": [
    "df = pd.read_csv('cleveland.csv')\n",
    "df = df.rename({'num':'disease'}, axis=1)\n",
    "display(df.head())\n",
    "#Dropping columns which have high correlation\n",
    "df = df.drop(['thalach', 'oldpeak', 'ca', 'thal'], axis=1)\n",
    "df = df.replace('?', np.nan).dropna()\n",
    "df['disease'] = df.disease.apply(lambda x: min(x, 1))\n",
    "df['age_s'] = (df.age-df.age.mean())/df.age.std()\n",
    "df['cp_s'] = (df.cp-df.cp.mean())/df.cp.std()\n",
    "df['trestbps_s'] = (df.trestbps-df.trestbps.mean())/df.trestbps.std()\n",
    "df['chol_s'] = (df.chol-df.chol.mean())/df.chol.std()\n",
    "df['restecg_s'] = (df.restecg-df.restecg.mean())/df.restecg.std()\n",
    "df['slope_s'] = (df.slope-df.slope.mean())/df.slope.std()\n",
    "display(df.head())\n",
    "X = df.drop(\"disease\", axis=1)\n",
    "y = df[\"disease\"]\n",
    "X_train, X_test, y_train, y_test = train_test_split(X, y, test_size=0.2)"
   ]
  },
  {
   "cell_type": "code",
   "execution_count": null,
   "id": "07bd1d9d",
   "metadata": {},
   "outputs": [],
   "source": [
    "#get_score will iterate through all the possible combinations of attributes and k-values from 1-10\n",
    "#get_score will iterate through all the possible combinations of attributes and k-values from 1-10. \n",
    "#This will be taking around an hour to run all the combinations and produce output.\n",
    "def get_scores(att, kl):\n",
    "    r = {}\n",
    "    for k in kl:\n",
    "        nn = NearestNeighbors(n_neighbors=k, metric='euclidean', algorithm='auto')\n",
    "        df1 = df[att].values\n",
    "        fit = nn.fit(df1)\n",
    "        kf = KFold(n_splits=10, shuffle=True)\n",
    "        actual = []\n",
    "        predicts = []\n",
    "        fold = 1\n",
    "        print(f\"k-value: {k}\")\n",
    "        for X_trainn, X_testt in kf.split(df1):\n",
    "            X_train, X_test = df1[X_trainn], df1[X_testt]\n",
    "            y_train, y_test = df.iloc[X_trainn]['disease'], df.iloc[X_testt]['disease']\n",
    "            distances, indices = fit.kneighbors(X_test)\n",
    "            for i in range(len(X_testt)):\n",
    "                nbrs = df.iloc[indices[i]]\n",
    "                nbrs = nbrs.drop(X_testt[i], errors='ignore')\n",
    "                healthy = nbrs[nbrs.disease == 0].count().disease\n",
    "                sick = nbrs[nbrs.disease == 1].count().disease\n",
    "                predict = 0 if (healthy > sick) else 1\n",
    "                actual.append(y_test.iloc[i])\n",
    "                predicts.append(predict)\n",
    "            precision, recall, f1_score, support = precision_recall_fscore_support(actual, predicts, labels=[1])\n",
    "            r[k] = (precision[0], recall[0], f1_score[0])\n",
    "            print(f\"Fold Val {fold}: Precision: {precision[0]}, ReCall: {recall[0]}, Mean F1 Val: {f1_score[0]}\")\n",
    "            fold += 1\n",
    "    return r\n",
    "\n",
    "d = {}\n",
    "attl = ['age_s', 'sex', 'trestbps_s', 'chol_s',  'cp_s', 'slope_s', 'fbs', 'restecg_s', 'exang'] \n",
    "for i in range(1, len(attl)+1):\n",
    "    for att in itertools.combinations(attl, i):\n",
    "        att_list = list(att)\n",
    "        res = get_scores(att_list, [1,2,3,4,5,6,7,8,9,10])\n",
    "        d[','.join(att_list)] = res\n",
    "        print(f\"Attribute: {','.join(att_list)}\")\n",
    "        for k, (precision, recall, f1_score) in res.items():\n",
    "            print(f\"k={k}, Precision: {precision}, ReCall: {recall}, Mean F1: {f1_score}\")\n",
    "        print(\"\\n\")\n"
   ]
  },
  {
   "cell_type": "code",
   "execution_count": null,
   "id": "494336fa",
   "metadata": {},
   "outputs": [],
   "source": [
    "#Best combination of attributes and K-Value which produced the highest F1-Score\n",
    "get_scores(['sex','cp_s','slope_s'], [4,7])\n",
    "print(f\"k={k}, Precision: {precision}, ReCall: {recall}, Mean F1: {f1_score}\")"
   ]
  },
  {
   "cell_type": "markdown",
   "id": "9e90ca5d",
   "metadata": {
    "executionInfo": {
     "elapsed": 823718,
     "status": "aborted",
     "timestamp": 1677185461704,
     "user": {
      "displayName": "Satyanarayana Vinay Achanta",
      "userId": "14802231585218067533"
     },
     "user_tz": 420
    },
    "id": "8e3e2f79"
   },
   "source": [
    "### Part-2 Predicting Diabetes "
   ]
  },
  {
   "cell_type": "code",
   "execution_count": null,
   "id": "611fa324",
   "metadata": {},
   "outputs": [],
   "source": [
    "df = pd.read_csv('diabetes.csv')\n",
    "df = df.replace('?', np.nan)\n",
    "df = df.dropna()\n",
    "display(df.head())\n",
    "df['Pregnancies_s'] = (df.Pregnancies - df.Pregnancies.mean()) / df.Pregnancies.std()\n",
    "df['Glucose_s'] = (df.Glucose - df.Glucose.mean()) / df.Glucose.std()\n",
    "df['BloodPressure_s'] = (df.BloodPressure - df.BloodPressure.mean()) / df.BloodPressure.std()\n",
    "df['SkinThickness_s'] = (df.SkinThickness - df.SkinThickness.mean()) / df.SkinThickness.std()\n",
    "df['Insulin_s'] = (df.Insulin - df.Insulin.mean()) / df.Insulin.std()\n",
    "df['BMI_s'] = (df.BMI - df.BMI.mean()) / df.BMI.std()\n",
    "df['DiabetesPedigreeFunction_s'] = (df.DiabetesPedigreeFunction - df.DiabetesPedigreeFunction.mean()) / df.DiabetesPedigreeFunction.std()\n",
    "df['Age_s'] = (df.Age - df.Age.mean()) / df.Age.std()\n",
    "display(df.head())\n",
    "X = df.drop(\"Outcome\", axis=1)\n",
    "y = df[\"Outcome\"]\n",
    "X_train, X_test, y_train, y_test = train_test_split(X, y, test_size=0.2)"
   ]
  },
  {
   "cell_type": "code",
   "execution_count": null,
   "id": "24c9da2a",
   "metadata": {},
   "outputs": [],
   "source": [
    "#get_score will iterate through all the possible combinations of attributes and k-values from 1-10. \n",
    "#This will be taking around an hour to run all the combinations and produce output.\n",
    "def get_scores(att, kl):\n",
    "    r = {}\n",
    "    for k in kl:\n",
    "        nn = NearestNeighbors(n_neighbors=k, metric='euclidean', algorithm='auto')\n",
    "        df1 = df[att].values\n",
    "        fit = nn.fit(df1)\n",
    "        kf = KFold(n_splits=10, shuffle=True)\n",
    "        actual = []\n",
    "        predicts = []\n",
    "        fold = 1\n",
    "        print(f\"k-value: {k}\")\n",
    "        for X_trainn, X_testt in kf.split(df1):\n",
    "            X_train, X_test = df1[X_trainn], df1[X_testt]\n",
    "            y_train, y_test = df.iloc[X_trainn]['Outcome'], df.iloc[X_testt]['Outcome']\n",
    "            distances, indices = fit.kneighbors(X_test)\n",
    "            for i in range(len(X_testt)):\n",
    "                nbrs = df.iloc[indices[i]]\n",
    "                nbrs = nbrs.drop(X_testt[i], errors='ignore')\n",
    "                healthy = nbrs[nbrs.Outcome == 0].count().Outcome\n",
    "                sick = nbrs[nbrs.Outcome == 1].count().Outcome\n",
    "                predict = 0 if (healthy > sick) else 1\n",
    "                actual.append(y_test.iloc[i])\n",
    "                predicts.append(predict)\n",
    "            precision, recall, f1_score, support = precision_recall_fscore_support(actual, predicts, labels=[1])\n",
    "            r[k] = (precision[0], recall[0], f1_score[0])\n",
    "            print(f\"Fold Val {fold}: Precision: {precision[0]}, ReCall: {recall[0]}, Mean F1 Val: {f1_score[0]}\")\n",
    "            fold += 1\n",
    "    return r\n",
    "\n",
    "d = {}\n",
    "attl = ['Pregnancies_s' ,'Glucose_s','BloodPressure_s' ,'SkinThickness_s' ,'Insulin_s' ,'BMI_s' ,'DiabetesPedigreeFunction_s','Age_s']\n",
    "for i in range(1, len(attl)+1):\n",
    "    for att in itertools.combinations(attl, i):\n",
    "        att_list = list(att)\n",
    "        res = get_scores(att_list, [1,2,3,4,5,6,7,8,9,10])\n",
    "        d[','.join(att_list)] = res\n",
    "        print(f\"Attribute: {','.join(att_list)}\")\n",
    "        for k, (precision, recall, f1_score) in res.items():\n",
    "            print(f\"k={k}, Precision: {precision}, ReCall: {recall}, Mean F1: {f1_score}\")\n",
    "        print(\"\\n\")\n"
   ]
  },
  {
   "cell_type": "code",
   "execution_count": null,
   "id": "4e42c42c",
   "metadata": {},
   "outputs": [],
   "source": [
    "#Best combination of attributes and K-Value which produced the highest F1-Score\n",
    "get_scores(['Glucose_s','Insulin_s','BMI_s','DiabetesPedigreeFunction_s','Age_s'], [7])\n",
    "print(f\"k={k}, Precision: {precision}, ReCall: {recall}, Mean F1: {f1_score}\")"
   ]
  },
  {
   "cell_type": "code",
   "execution_count": null,
   "id": "626d84fd",
   "metadata": {},
   "outputs": [],
   "source": []
  }
 ],
 "metadata": {
  "colab": {
   "provenance": []
  },
  "kernelspec": {
   "display_name": "Python 3 (ipykernel)",
   "language": "python",
   "name": "python3"
  },
  "language_info": {
   "codemirror_mode": {
    "name": "ipython",
    "version": 3
   },
   "file_extension": ".py",
   "mimetype": "text/x-python",
   "name": "python",
   "nbconvert_exporter": "python",
   "pygments_lexer": "ipython3",
   "version": "3.9.13"
  }
 },
 "nbformat": 4,
 "nbformat_minor": 5
}
